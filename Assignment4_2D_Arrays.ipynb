{
  "nbformat": 4,
  "nbformat_minor": 0,
  "metadata": {
    "colab": {
      "provenance": [],
      "authorship_tag": "ABX9TyOG3hjy7dQiMZ/Gq+/1YaD/",
      "include_colab_link": true
    },
    "kernelspec": {
      "name": "python3",
      "display_name": "Python 3"
    },
    "language_info": {
      "name": "python"
    }
  },
  "cells": [
    {
      "cell_type": "markdown",
      "metadata": {
        "id": "view-in-github",
        "colab_type": "text"
      },
      "source": [
        "<a href=\"https://colab.research.google.com/github/Niladri-DS/Assignmnet-DSA-/blob/main/Assignment4_2D_Arrays.ipynb\" target=\"_parent\"><img src=\"https://colab.research.google.com/assets/colab-badge.svg\" alt=\"Open In Colab\"/></a>"
      ]
    },
    {
      "cell_type": "markdown",
      "source": [
        "<aside>\n",
        "\n",
        " **Question 1**\n",
        "Given three integer arrays arr1, arr2 and arr3 **sorted** in **strictly increasing** order, return a sorted array of **only** the integers that appeared in **all** three arrays.\n",
        "\n",
        "**Example 1:**\n",
        "\n",
        "Input: arr1 = [1,2,3,4,5], arr2 = [1,2,5,7,9], arr3 = [1,3,4,5,8]\n",
        "\n",
        "Output: [1,5]\n",
        "\n",
        "**Explanation:** Only 1 and 5 appeared in the three arrays.\n",
        "\n",
        "</aside>"
      ],
      "metadata": {
        "id": "U1k8M-76Bom4"
      }
    },
    {
      "cell_type": "code",
      "execution_count": 1,
      "metadata": {
        "colab": {
          "base_uri": "https://localhost:8080/"
        },
        "id": "oN_NqyS4BhH2",
        "outputId": "f442ea57-f838-4fc2-9140-945fd5b50d19"
      },
      "outputs": [
        {
          "output_type": "stream",
          "name": "stdout",
          "text": [
            "[1, 5]\n"
          ]
        }
      ],
      "source": [
        "def commonElements(arr1, arr2, arr3):\n",
        "    i = j = k = 0\n",
        "    common = []\n",
        "\n",
        "    while i < len(arr1) and j < len(arr2) and k < len(arr3):\n",
        "        if arr1[i] == arr2[j] == arr3[k]:\n",
        "            common.append(arr1[i])\n",
        "            i += 1\n",
        "            j += 1\n",
        "            k += 1\n",
        "        elif arr1[i] < arr2[j]:\n",
        "            i += 1\n",
        "        elif arr2[j] < arr3[k]:\n",
        "            j += 1\n",
        "        else:\n",
        "            k += 1\n",
        "\n",
        "    return common\n",
        "\n",
        "# Example usage\n",
        "arr1 = [1,2,3,4,5]\n",
        "arr2 = [1,2,5,7,9]\n",
        "arr3 = [1,3,4,5,8]\n",
        "result = commonElements(arr1, arr2, arr3)\n",
        "print(result)"
      ]
    },
    {
      "cell_type": "markdown",
      "source": [
        "<aside>\n",
        "\n",
        " **Question 2**\n",
        "\n",
        "Given two **0-indexed** integer arrays nums1 and nums2, return *a list* answer *of size* 2 *where:*\n",
        "\n",
        "- answer[0] *is a list of all **distinct** integers in* nums1 *which are **not** present in* nums2*.*\n",
        "- answer[1] *is a list of all **distinct** integers in* nums2 *which are **not** present in* nums1.\n",
        "\n",
        "**Note** that the integers in the lists may be returned in **any** order.\n",
        "\n",
        "**Example 1:**\n",
        "\n",
        "**Input:** nums1 = [1,2,3], nums2 = [2,4,6]\n",
        "\n",
        "**Output:** [[1,3],[4,6]]\n",
        "\n",
        "**Explanation:**\n",
        "\n",
        "For nums1, nums1[1] = 2 is present at index 0 of nums2, whereas nums1[0] = 1 and nums1[2] = 3 are not present in nums2. Therefore, answer[0] = [1,3].\n",
        "\n",
        "For nums2, nums2[0] = 2 is present at index 1 of nums1, whereas nums2[1] = 4 and nums2[2] = 6 are not present in nums2. Therefore, answer[1] = [4,6].\n",
        "\n",
        "</aside>"
      ],
      "metadata": {
        "id": "LtC5w98NBy9n"
      }
    },
    {
      "cell_type": "code",
      "source": [
        "def findDisappearedNumbers(nums1, nums2):\n",
        "    set1 = set(nums1)\n",
        "    set2 = set(nums2)\n",
        "\n",
        "    unique_nums1 = list(set1 - set2)\n",
        "    unique_nums2 = list(set2 - set1)\n",
        "\n",
        "    return [unique_nums1, unique_nums2]\n",
        "\n",
        "# Example usage\n",
        "nums1 = [1,2,3]\n",
        "nums2 = [2,4,6]\n",
        "result = findDisappearedNumbers(nums1, nums2)\n",
        "print(result)\n"
      ],
      "metadata": {
        "colab": {
          "base_uri": "https://localhost:8080/"
        },
        "id": "aYiPM9uAB3wv",
        "outputId": "d64bfefe-c144-4689-c2fa-fdb6429c8426"
      },
      "execution_count": 2,
      "outputs": [
        {
          "output_type": "stream",
          "name": "stdout",
          "text": [
            "[[1, 3], [4, 6]]\n"
          ]
        }
      ]
    },
    {
      "cell_type": "markdown",
      "source": [
        "<aside>\n",
        "\n",
        " **Question 3**\n",
        "Given a 2D integer array matrix, return *the **transpose** of* matrix.\n",
        "\n",
        "The **transpose** of a matrix is the matrix flipped over its main diagonal, switching the matrix's row and column indices.\n",
        "\n",
        "**Example 1:**\n",
        "\n",
        "Input: matrix = [[1,2,3],[4,5,6],[7,8,9]]\n",
        "\n",
        "Output: [[1,4,7],[2,5,8],[3,6,9]]\n",
        "\n",
        "</aside>"
      ],
      "metadata": {
        "id": "UtAzzG_aB4I0"
      }
    },
    {
      "cell_type": "code",
      "source": [
        "def transpose(matrix):\n",
        "    rows = len(matrix)\n",
        "    cols = len(matrix[0])\n",
        "\n",
        "    # Create a new matrix with swapped dimensions\n",
        "    transposed = [[0 for _ in range(rows)] for _ in range(cols)]\n",
        "\n",
        "    for i in range(rows):\n",
        "        for j in range(cols):\n",
        "            transposed[j][i] = matrix[i][j]\n",
        "\n",
        "    return transposed\n",
        "\n",
        "# Example usage\n",
        "matrix = [[1, 2, 3], [4, 5, 6], [7, 8, 9]]\n",
        "result = transpose(matrix)\n",
        "print(result)\n"
      ],
      "metadata": {
        "colab": {
          "base_uri": "https://localhost:8080/"
        },
        "id": "knViTmtfB9bO",
        "outputId": "d61b2d3c-9500-40ba-d279-8805d8d41b5d"
      },
      "execution_count": 3,
      "outputs": [
        {
          "output_type": "stream",
          "name": "stdout",
          "text": [
            "[[1, 4, 7], [2, 5, 8], [3, 6, 9]]\n"
          ]
        }
      ]
    },
    {
      "cell_type": "markdown",
      "source": [
        "<aside>\n",
        "\n",
        " **Question 4**\n",
        "Given an integer array nums of 2n integers, group these integers into n pairs (a1, b1), (a2, b2), ..., (an, bn) such that the sum of min(ai, bi) for all i is **maximized**. Return *the maximized sum*.\n",
        "\n",
        "**Example 1:**\n",
        "\n",
        "Input: nums = [1,4,3,2]\n",
        "\n",
        "Output: 4\n",
        "\n",
        "**Explanation:** All possible pairings (ignoring the ordering of elements) are:\n",
        "\n",
        "1. (1, 4), (2, 3) -> min(1, 4) + min(2, 3) = 1 + 2 = 3\n",
        "\n",
        "2. (1, 3), (2, 4) -> min(1, 3) + min(2, 4) = 1 + 2 = 3\n",
        "\n",
        "3. (1, 2), (3, 4) -> min(1, 2) + min(3, 4) = 1 + 3 = 4\n",
        "\n",
        "So the maximum possible sum is 4.\n",
        "\n",
        "</aside>"
      ],
      "metadata": {
        "id": "hAVlDHFGB9vf"
      }
    },
    {
      "cell_type": "code",
      "source": [
        "def arrayPairSum(nums):\n",
        "    nums.sort()  # Sort the array in ascending order\n",
        "    n = len(nums)\n",
        "    max_sum = 0\n",
        "\n",
        "    # Iterate over the sorted array and sum the minimum elements in each pair\n",
        "    for i in range(0, n, 2):\n",
        "        max_sum += nums[i]\n",
        "\n",
        "    return max_sum\n",
        "\n",
        "# Example usage\n",
        "nums = [1, 4, 3, 2]\n",
        "result = arrayPairSum(nums)\n",
        "print(result)"
      ],
      "metadata": {
        "colab": {
          "base_uri": "https://localhost:8080/"
        },
        "id": "3azo0i30CKz2",
        "outputId": "0ec7ebb3-1354-4cf6-dc88-984c698d41bd"
      },
      "execution_count": 4,
      "outputs": [
        {
          "output_type": "stream",
          "name": "stdout",
          "text": [
            "4\n"
          ]
        }
      ]
    },
    {
      "cell_type": "markdown",
      "source": [
        "<aside>\n",
        "\n",
        " **Question 5**\n",
        "You have n coins and you want to build a staircase with these coins. The staircase consists of k rows where the ith row has exactly i coins. The last row of the staircase **may be** incomplete.\n",
        "\n",
        "Given the integer n, return *the number of **complete rows** of the staircase you will build*.\n",
        "\n",
        "**Example 1:**\n",
        "\n",
        "\n",
        "\n",
        "**Input:** n = 5\n",
        "\n",
        "**Output:** 2\n",
        "\n",
        "**Explanation:** Because the 3rd row is incomplete, we return 2.\n",
        "\n",
        "</aside>"
      ],
      "metadata": {
        "id": "F6A441PFCLMS"
      }
    },
    {
      "cell_type": "code",
      "source": [
        "def arrangeCoins(n):\n",
        "    row = 0\n",
        "    while n >= row + 1:\n",
        "        row += 1\n",
        "        n -= row\n",
        "\n",
        "    return row\n",
        "\n",
        "# Example usage\n",
        "n = 5\n",
        "result = arrangeCoins(n)\n",
        "print(result)"
      ],
      "metadata": {
        "colab": {
          "base_uri": "https://localhost:8080/"
        },
        "id": "9YhS5x9zCVMb",
        "outputId": "a60fb801-cf20-49d7-eff1-afbb74adfe3a"
      },
      "execution_count": 5,
      "outputs": [
        {
          "output_type": "stream",
          "name": "stdout",
          "text": [
            "2\n"
          ]
        }
      ]
    },
    {
      "cell_type": "markdown",
      "source": [
        "<aside>\n",
        "\n",
        " **Question 6**\n",
        "Given an integer array nums sorted in **non-decreasing** order, return *an array of **the squares of each number** sorted in non-decreasing order*.\n",
        "\n",
        "**Example 1:**\n",
        "\n",
        "Input: nums = [-4,-1,0,3,10]\n",
        "\n",
        "Output: [0,1,9,16,100]\n",
        "\n",
        "**Explanation:** After squaring, the array becomes [16,1,0,9,100].\n",
        "After sorting, it becomes [0,1,9,16,100]\n",
        "\n",
        "</aside>"
      ],
      "metadata": {
        "id": "yVV7w8DpCVgd"
      }
    },
    {
      "cell_type": "code",
      "source": [
        "def sortedSquares(nums):\n",
        "    result = []\n",
        "    for num in nums:\n",
        "        result.append(num * num)\n",
        "    result.sort()\n",
        "    return result\n",
        "\n",
        "# Example usage\n",
        "nums = [-4, -1, 0, 3, 10]\n",
        "result = sortedSquares(nums)\n",
        "print(result)"
      ],
      "metadata": {
        "colab": {
          "base_uri": "https://localhost:8080/"
        },
        "id": "DDQ3oMVcCX4u",
        "outputId": "f3c25e0a-e7b3-42b8-d334-5a9949bbefda"
      },
      "execution_count": 6,
      "outputs": [
        {
          "output_type": "stream",
          "name": "stdout",
          "text": [
            "[0, 1, 9, 16, 100]\n"
          ]
        }
      ]
    },
    {
      "cell_type": "markdown",
      "source": [
        "<aside>\n",
        "\n",
        " **Question 7**\n",
        "You are given an m x n matrix M initialized with all 0's and an array of operations ops, where ops[i] = [ai, bi] means M[x][y] should be incremented by one for all 0 <= x < ai and 0 <= y < bi.\n",
        "\n",
        "Count and return *the number of maximum integers in the matrix after performing all the operations*\n",
        "\n",
        "**Example 1:**\n",
        "\n",
        "\n",
        "\n",
        "**Input:** m = 3, n = 3, ops = [[2,2],[3,3]]\n",
        "\n",
        "**Output:** 4\n",
        "\n",
        "**Explanation:** The maximum integer in M is 2, and there are four of it in M. So return 4.\n",
        "\n",
        "</aside>"
      ],
      "metadata": {
        "id": "jreMaLroCYKc"
      }
    },
    {
      "cell_type": "code",
      "source": [
        "def maxCount(m, n, ops):\n",
        "    min_m = m\n",
        "    min_n = n\n",
        "\n",
        "    for op in ops:\n",
        "        min_m = min(min_m, op[0])\n",
        "        min_n = min(min_n, op[1])\n",
        "\n",
        "    return min_m * min_n\n",
        "\n",
        "# Example usage\n",
        "m = 3\n",
        "n = 3\n",
        "ops = [[2, 2], [3, 3]]\n",
        "result = maxCount(m, n, ops)\n",
        "print(result)"
      ],
      "metadata": {
        "colab": {
          "base_uri": "https://localhost:8080/"
        },
        "id": "pXZy9B1DCf0k",
        "outputId": "634f5f2a-be0c-459b-91ba-d423b6d7a754"
      },
      "execution_count": 7,
      "outputs": [
        {
          "output_type": "stream",
          "name": "stdout",
          "text": [
            "4\n"
          ]
        }
      ]
    },
    {
      "cell_type": "markdown",
      "source": [
        "<aside>\n",
        "\n",
        " **Question 8**\n",
        "\n",
        "Given the array nums consisting of 2n elements in the form [x1,x2,...,xn,y1,y2,...,yn].\n",
        "\n",
        "*Return the array in the form* [x1,y1,x2,y2,...,xn,yn].\n",
        "\n",
        "**Example 1:**\n",
        "\n",
        "**Input:** nums = [2,5,1,3,4,7], n = 3\n",
        "\n",
        "**Output:** [2,3,5,4,1,7]\n",
        "\n",
        "**Explanation:** Since x1=2, x2=5, x3=1, y1=3, y2=4, y3=7 then the answer is [2,3,5,4,1,7].\n",
        "\n",
        "</aside>"
      ],
      "metadata": {
        "id": "6JTdd7RUChbU"
      }
    },
    {
      "cell_type": "code",
      "source": [
        "def shuffle(nums, n):\n",
        "    result = []\n",
        "    for i in range(n):\n",
        "        result.append(nums[i])\n",
        "        result.append(nums[i + n])\n",
        "    return result\n",
        "\n",
        "# Example usage\n",
        "nums = [2, 5, 1, 3, 4, 7]\n",
        "n = 3\n",
        "result = shuffle(nums, n)\n",
        "print(result)"
      ],
      "metadata": {
        "colab": {
          "base_uri": "https://localhost:8080/"
        },
        "id": "RjiibhmICqLg",
        "outputId": "fffe9342-9856-4909-d341-2b973d061c8f"
      },
      "execution_count": 8,
      "outputs": [
        {
          "output_type": "stream",
          "name": "stdout",
          "text": [
            "[2, 3, 5, 4, 1, 7]\n"
          ]
        }
      ]
    }
  ]
}